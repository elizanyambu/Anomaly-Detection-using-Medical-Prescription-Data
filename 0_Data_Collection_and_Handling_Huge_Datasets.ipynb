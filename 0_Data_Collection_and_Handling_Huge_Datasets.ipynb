{
  "nbformat": 4,
  "nbformat_minor": 0,
  "metadata": {
    "colab": {
      "name": "1. Data Collection and Handling Huge Datasets.ipynb",
      "provenance": [],
      "collapsed_sections": []
    },
    "kernelspec": {
      "name": "python3",
      "display_name": "Python 3"
    },
    "language_info": {
      "name": "python"
    }
  },
  "cells": [
    {
      "cell_type": "markdown",
      "source": [
        "# **Design of a Machine Learning-Based Anomaly Detection for Medical Prescription Data**\n",
        "\n"
      ],
      "metadata": {
        "id": "durJNnZEgKkU"
      }
    },
    {
      "cell_type": "markdown",
      "source": [
        "#Import"
      ],
      "metadata": {
        "id": "1anc7Gu_sqqk"
      }
    },
    {
      "cell_type": "code",
      "source": [
        "import numpy as np\n",
        "import pandas as pd\n",
        "import matplotlib.pyplot as plt\n",
        "import seaborn as sns\n",
        "import joblib\n",
        "import warnings\n",
        "warnings.filterwarnings('ignore')"
      ],
      "metadata": {
        "id": "JjBvlvESOi_h"
      },
      "execution_count": null,
      "outputs": []
    },
    {
      "cell_type": "markdown",
      "source": [
        "#Connect to Drive"
      ],
      "metadata": {
        "id": "jaO_CsMCGVLI"
      }
    },
    {
      "cell_type": "code",
      "execution_count": null,
      "metadata": {
        "colab": {
          "base_uri": "https://localhost:8080/"
        },
        "id": "36srqKySvV8n",
        "outputId": "00822960-9484-4b91-ea1d-60de82a33987"
      },
      "outputs": [
        {
          "output_type": "stream",
          "name": "stdout",
          "text": [
            "Mounted at /content/drive\n"
          ]
        }
      ],
      "source": [
        "from google.colab import drive\n",
        "drive.mount('/content/drive')"
      ]
    },
    {
      "cell_type": "code",
      "source": [
        "!unzip /content/drive/MyDrive/Medicare_Part_D_Prescribers_by_Provider_and_Drug_2019.zip"
      ],
      "metadata": {
        "colab": {
          "base_uri": "https://localhost:8080/"
        },
        "id": "-BtJvFUe42Pk",
        "outputId": "460aeeec-49cb-4baf-8c31-aa01819befc6"
      },
      "execution_count": null,
      "outputs": [
        {
          "output_type": "stream",
          "name": "stdout",
          "text": [
            "Archive:  /content/drive/MyDrive/Medicare_Part_D_Prescribers_by_Provider_and_Drug_2019.zip\n",
            "  inflating: Medicare_Part_D_Prescribers_by_Provider_and_Drug_2019.csv  \n"
          ]
        }
      ]
    },
    {
      "cell_type": "markdown",
      "source": [
        "#Dask"
      ],
      "metadata": {
        "id": "M7WxZoCwGf16"
      }
    },
    {
      "cell_type": "code",
      "source": [
        "!python -m pip install dask \n",
        "!python -m pip install dask[dataframe] --upgrade "
      ],
      "metadata": {
        "colab": {
          "base_uri": "https://localhost:8080/"
        },
        "id": "b0vyj-daZcH3",
        "outputId": "12f30e2b-e643-44f9-cc67-99fafd8eba7b"
      },
      "execution_count": null,
      "outputs": [
        {
          "output_type": "stream",
          "name": "stdout",
          "text": [
            "Requirement already satisfied: dask in /usr/local/lib/python3.7/dist-packages (2.12.0)\n",
            "Requirement already satisfied: dask[dataframe] in /usr/local/lib/python3.7/dist-packages (2.12.0)\n",
            "Requirement already satisfied: numpy>=1.13.0 in /usr/local/lib/python3.7/dist-packages (from dask[dataframe]) (1.21.5)\n",
            "Requirement already satisfied: toolz>=0.7.3 in /usr/local/lib/python3.7/dist-packages (from dask[dataframe]) (0.11.2)\n",
            "Requirement already satisfied: pandas>=0.23.0 in /usr/local/lib/python3.7/dist-packages (from dask[dataframe]) (1.3.5)\n",
            "Requirement already satisfied: fsspec>=0.6.0 in /usr/local/lib/python3.7/dist-packages (from dask[dataframe]) (2022.1.0)\n",
            "Requirement already satisfied: partd>=0.3.10 in /usr/local/lib/python3.7/dist-packages (from dask[dataframe]) (1.2.0)\n",
            "Requirement already satisfied: pytz>=2017.3 in /usr/local/lib/python3.7/dist-packages (from pandas>=0.23.0->dask[dataframe]) (2018.9)\n",
            "Requirement already satisfied: python-dateutil>=2.7.3 in /usr/local/lib/python3.7/dist-packages (from pandas>=0.23.0->dask[dataframe]) (2.8.2)\n",
            "Requirement already satisfied: locket in /usr/local/lib/python3.7/dist-packages (from partd>=0.3.10->dask[dataframe]) (0.2.1)\n",
            "Requirement already satisfied: six>=1.5 in /usr/local/lib/python3.7/dist-packages (from python-dateutil>=2.7.3->pandas>=0.23.0->dask[dataframe]) (1.15.0)\n"
          ]
        }
      ]
    },
    {
      "cell_type": "code",
      "source": [
        "import dask.dataframe as dd\n",
        "\n",
        "#used Dask to first look into the data\n",
        "df3 = dd.read_csv('/content/*.csv')\n",
        "print(df3.columns)\n",
        "df3"
      ],
      "metadata": {
        "id": "iiARVzZo3XLv"
      },
      "execution_count": null,
      "outputs": []
    },
    {
      "cell_type": "markdown",
      "source": [
        "['Prscrbr_NPI', 'Prscrbr_Last_Org_Name', 'Prscrbr_First_Name',\n",
        "       'Prscrbr_City', 'Prscrbr_State_Abrvtn', 'Prscrbr_State_FIPS',\n",
        "       'Prscrbr_Type', 'Prscrbr_Type_Src', 'Brnd_Name', 'Gnrc_Name',\n",
        "       'Tot_Clms', 'Tot_30day_Fills', 'Tot_Day_Suply', 'Tot_Drug_Cst',\n",
        "       'Tot_Benes', 'GE65_Sprsn_Flag', 'GE65_Tot_Clms', 'GE65_Tot_30day_Fills',\n",
        "       'GE65_Tot_Drug_Cst', 'GE65_Tot_Day_Suply', 'GE65_Bene_Sprsn_Flag',\n",
        "       'GE65_Tot_Benes']"
      ],
      "metadata": {
        "id": "YSQmvXM_D1HF"
      }
    },
    {
      "cell_type": "markdown",
      "source": [
        "#Load Medicare Part D Dataset\n"
      ],
      "metadata": {
        "id": "Y_RMVCLNGjdq"
      }
    },
    {
      "cell_type": "code",
      "source": [
        "#columns used\n",
        "columns = ['Prscrbr_NPI','Prscrbr_Type','Brnd_Name','Tot_Clms',\n",
        "           'Tot_30day_Fills','Tot_Day_Suply','Tot_Drug_Cst','Tot_Benes']\n",
        "\n",
        "#change datatype\n",
        "dtypes = {'Prscrbr_Type':'category',\n",
        "          'Brnd_Name':'category'}\n",
        "\n",
        "#rename columns\n",
        "columns_rename = {'Prscrbr_NPI':'NPI', 'Prscrbr_Type':'provider_type',\n",
        "                   'Brnd_Name':'brand_name', 'Tot_Clms':'num_claims',\n",
        "                   'Tot_30day_Fills':'num_30day_refills','Tot_Day_Suply':'agg_daysupply',\n",
        "                   'Tot_Drug_Cst':'cost','Tot_Benes':'num_beneficiaries'}\n",
        "\n",
        "#load data\n",
        "df = pd.read_csv(\"/content/Medicare_Part_D_Prescribers_by_Provider_and_Drug_2019.csv\", usecols = columns, dtype=dtypes)\n",
        "\n",
        "#rename columns\n",
        "df.rename(columns=columns_rename, inplace=True)\n",
        "\n",
        "print(df.info())\n",
        "df.head()"
      ],
      "metadata": {
        "id": "ocXxDIIE3SEb",
        "colab": {
          "base_uri": "https://localhost:8080/",
          "height": 520
        },
        "outputId": "5ca4e64d-ff3e-4c4a-e9a9-8ecc3f2fa8f4"
      },
      "execution_count": null,
      "outputs": [
        {
          "output_type": "stream",
          "name": "stdout",
          "text": [
            "<class 'pandas.core.frame.DataFrame'>\n",
            "RangeIndex: 25401870 entries, 0 to 25401869\n",
            "Data columns (total 8 columns):\n",
            " #   Column             Dtype   \n",
            "---  ------             -----   \n",
            " 0   NPI                int64   \n",
            " 1   provider_type      category\n",
            " 2   brand_name         category\n",
            " 3   num_claims         int64   \n",
            " 4   num_30day_refills  float64 \n",
            " 5   agg_daysupply      int64   \n",
            " 6   cost               float64 \n",
            " 7   num_beneficiaries  float64 \n",
            "dtypes: category(2), float64(3), int64(3)\n",
            "memory usage: 1.2 GB\n",
            "None\n"
          ]
        },
        {
          "output_type": "execute_result",
          "data": {
            "text/plain": [
              "          NPI      provider_type            brand_name  num_claims  \\\n",
              "0  1003000126  Internal Medicine        Amiodarone Hcl          13   \n",
              "1  1003000126  Internal Medicine   Amlodipine Besylate          22   \n",
              "2  1003000126  Internal Medicine  Atorvastatin Calcium          41   \n",
              "3  1003000126  Internal Medicine          Azithromycin          15   \n",
              "4  1003000126  Internal Medicine            Carvedilol          21   \n",
              "\n",
              "   num_30day_refills  agg_daysupply    cost  num_beneficiaries  \n",
              "0               13.0            360  150.76                NaN  \n",
              "1               26.0            780   92.81               12.0  \n",
              "2               50.0           1482  373.60               22.0  \n",
              "3               15.0             77  132.57               15.0  \n",
              "4               27.0            787  118.53               11.0  "
            ],
            "text/html": [
              "\n",
              "  <div id=\"df-ff8cadd7-a189-4642-9543-8e3f7745bccd\">\n",
              "    <div class=\"colab-df-container\">\n",
              "      <div>\n",
              "<style scoped>\n",
              "    .dataframe tbody tr th:only-of-type {\n",
              "        vertical-align: middle;\n",
              "    }\n",
              "\n",
              "    .dataframe tbody tr th {\n",
              "        vertical-align: top;\n",
              "    }\n",
              "\n",
              "    .dataframe thead th {\n",
              "        text-align: right;\n",
              "    }\n",
              "</style>\n",
              "<table border=\"1\" class=\"dataframe\">\n",
              "  <thead>\n",
              "    <tr style=\"text-align: right;\">\n",
              "      <th></th>\n",
              "      <th>NPI</th>\n",
              "      <th>provider_type</th>\n",
              "      <th>brand_name</th>\n",
              "      <th>num_claims</th>\n",
              "      <th>num_30day_refills</th>\n",
              "      <th>agg_daysupply</th>\n",
              "      <th>cost</th>\n",
              "      <th>num_beneficiaries</th>\n",
              "    </tr>\n",
              "  </thead>\n",
              "  <tbody>\n",
              "    <tr>\n",
              "      <th>0</th>\n",
              "      <td>1003000126</td>\n",
              "      <td>Internal Medicine</td>\n",
              "      <td>Amiodarone Hcl</td>\n",
              "      <td>13</td>\n",
              "      <td>13.0</td>\n",
              "      <td>360</td>\n",
              "      <td>150.76</td>\n",
              "      <td>NaN</td>\n",
              "    </tr>\n",
              "    <tr>\n",
              "      <th>1</th>\n",
              "      <td>1003000126</td>\n",
              "      <td>Internal Medicine</td>\n",
              "      <td>Amlodipine Besylate</td>\n",
              "      <td>22</td>\n",
              "      <td>26.0</td>\n",
              "      <td>780</td>\n",
              "      <td>92.81</td>\n",
              "      <td>12.0</td>\n",
              "    </tr>\n",
              "    <tr>\n",
              "      <th>2</th>\n",
              "      <td>1003000126</td>\n",
              "      <td>Internal Medicine</td>\n",
              "      <td>Atorvastatin Calcium</td>\n",
              "      <td>41</td>\n",
              "      <td>50.0</td>\n",
              "      <td>1482</td>\n",
              "      <td>373.60</td>\n",
              "      <td>22.0</td>\n",
              "    </tr>\n",
              "    <tr>\n",
              "      <th>3</th>\n",
              "      <td>1003000126</td>\n",
              "      <td>Internal Medicine</td>\n",
              "      <td>Azithromycin</td>\n",
              "      <td>15</td>\n",
              "      <td>15.0</td>\n",
              "      <td>77</td>\n",
              "      <td>132.57</td>\n",
              "      <td>15.0</td>\n",
              "    </tr>\n",
              "    <tr>\n",
              "      <th>4</th>\n",
              "      <td>1003000126</td>\n",
              "      <td>Internal Medicine</td>\n",
              "      <td>Carvedilol</td>\n",
              "      <td>21</td>\n",
              "      <td>27.0</td>\n",
              "      <td>787</td>\n",
              "      <td>118.53</td>\n",
              "      <td>11.0</td>\n",
              "    </tr>\n",
              "  </tbody>\n",
              "</table>\n",
              "</div>\n",
              "      <button class=\"colab-df-convert\" onclick=\"convertToInteractive('df-ff8cadd7-a189-4642-9543-8e3f7745bccd')\"\n",
              "              title=\"Convert this dataframe to an interactive table.\"\n",
              "              style=\"display:none;\">\n",
              "        \n",
              "  <svg xmlns=\"http://www.w3.org/2000/svg\" height=\"24px\"viewBox=\"0 0 24 24\"\n",
              "       width=\"24px\">\n",
              "    <path d=\"M0 0h24v24H0V0z\" fill=\"none\"/>\n",
              "    <path d=\"M18.56 5.44l.94 2.06.94-2.06 2.06-.94-2.06-.94-.94-2.06-.94 2.06-2.06.94zm-11 1L8.5 8.5l.94-2.06 2.06-.94-2.06-.94L8.5 2.5l-.94 2.06-2.06.94zm10 10l.94 2.06.94-2.06 2.06-.94-2.06-.94-.94-2.06-.94 2.06-2.06.94z\"/><path d=\"M17.41 7.96l-1.37-1.37c-.4-.4-.92-.59-1.43-.59-.52 0-1.04.2-1.43.59L10.3 9.45l-7.72 7.72c-.78.78-.78 2.05 0 2.83L4 21.41c.39.39.9.59 1.41.59.51 0 1.02-.2 1.41-.59l7.78-7.78 2.81-2.81c.8-.78.8-2.07 0-2.86zM5.41 20L4 18.59l7.72-7.72 1.47 1.35L5.41 20z\"/>\n",
              "  </svg>\n",
              "      </button>\n",
              "      \n",
              "  <style>\n",
              "    .colab-df-container {\n",
              "      display:flex;\n",
              "      flex-wrap:wrap;\n",
              "      gap: 12px;\n",
              "    }\n",
              "\n",
              "    .colab-df-convert {\n",
              "      background-color: #E8F0FE;\n",
              "      border: none;\n",
              "      border-radius: 50%;\n",
              "      cursor: pointer;\n",
              "      display: none;\n",
              "      fill: #1967D2;\n",
              "      height: 32px;\n",
              "      padding: 0 0 0 0;\n",
              "      width: 32px;\n",
              "    }\n",
              "\n",
              "    .colab-df-convert:hover {\n",
              "      background-color: #E2EBFA;\n",
              "      box-shadow: 0px 1px 2px rgba(60, 64, 67, 0.3), 0px 1px 3px 1px rgba(60, 64, 67, 0.15);\n",
              "      fill: #174EA6;\n",
              "    }\n",
              "\n",
              "    [theme=dark] .colab-df-convert {\n",
              "      background-color: #3B4455;\n",
              "      fill: #D2E3FC;\n",
              "    }\n",
              "\n",
              "    [theme=dark] .colab-df-convert:hover {\n",
              "      background-color: #434B5C;\n",
              "      box-shadow: 0px 1px 3px 1px rgba(0, 0, 0, 0.15);\n",
              "      filter: drop-shadow(0px 1px 2px rgba(0, 0, 0, 0.3));\n",
              "      fill: #FFFFFF;\n",
              "    }\n",
              "  </style>\n",
              "\n",
              "      <script>\n",
              "        const buttonEl =\n",
              "          document.querySelector('#df-ff8cadd7-a189-4642-9543-8e3f7745bccd button.colab-df-convert');\n",
              "        buttonEl.style.display =\n",
              "          google.colab.kernel.accessAllowed ? 'block' : 'none';\n",
              "\n",
              "        async function convertToInteractive(key) {\n",
              "          const element = document.querySelector('#df-ff8cadd7-a189-4642-9543-8e3f7745bccd');\n",
              "          const dataTable =\n",
              "            await google.colab.kernel.invokeFunction('convertToInteractive',\n",
              "                                                     [key], {});\n",
              "          if (!dataTable) return;\n",
              "\n",
              "          const docLinkHtml = 'Like what you see? Visit the ' +\n",
              "            '<a target=\"_blank\" href=https://colab.research.google.com/notebooks/data_table.ipynb>data table notebook</a>'\n",
              "            + ' to learn more about interactive tables.';\n",
              "          element.innerHTML = '';\n",
              "          dataTable['output_type'] = 'display_data';\n",
              "          await google.colab.output.renderOutput(dataTable, element);\n",
              "          const docLink = document.createElement('div');\n",
              "          docLink.innerHTML = docLinkHtml;\n",
              "          element.appendChild(docLink);\n",
              "        }\n",
              "      </script>\n",
              "    </div>\n",
              "  </div>\n",
              "  "
            ]
          },
          "metadata": {},
          "execution_count": 5
        }
      ]
    },
    {
      "cell_type": "code",
      "source": [
        "#drop NaN and reset index\n",
        "df.dropna(how='any', inplace=True)\n",
        "df.reset_index(drop=True, inplace=True)\n",
        "df.info()"
      ],
      "metadata": {
        "id": "Skxog3JLUV6t",
        "colab": {
          "base_uri": "https://localhost:8080/"
        },
        "outputId": "46d5e6a0-f658-4e35-8e94-44a95b29a901"
      },
      "execution_count": null,
      "outputs": [
        {
          "output_type": "stream",
          "name": "stdout",
          "text": [
            "<class 'pandas.core.frame.DataFrame'>\n",
            "RangeIndex: 10706142 entries, 0 to 10706141\n",
            "Data columns (total 8 columns):\n",
            " #   Column             Dtype   \n",
            "---  ------             -----   \n",
            " 0   NPI                int64   \n",
            " 1   provider_type      category\n",
            " 2   brand_name         category\n",
            " 3   num_claims         int64   \n",
            " 4   num_30day_refills  float64 \n",
            " 5   agg_daysupply      int64   \n",
            " 6   cost               float64 \n",
            " 7   num_beneficiaries  float64 \n",
            "dtypes: category(2), float64(3), int64(3)\n",
            "memory usage: 531.0 MB\n"
          ]
        }
      ]
    },
    {
      "cell_type": "markdown",
      "source": [
        "# Aggregate Medicare Part D"
      ],
      "metadata": {
        "id": "KNpBdHIfjRYY"
      }
    },
    {
      "cell_type": "code",
      "source": [
        "# all unique npi\n",
        "df[\"NPI\"].nunique()"
      ],
      "metadata": {
        "colab": {
          "base_uri": "https://localhost:8080/"
        },
        "id": "x9aPnM1vjVwE",
        "outputId": "93671dab-a906-4228-f304-44df946ea0ec"
      },
      "execution_count": null,
      "outputs": [
        {
          "output_type": "execute_result",
          "data": {
            "text/plain": [
              "827474"
            ]
          },
          "metadata": {},
          "execution_count": 7
        }
      ]
    },
    {
      "cell_type": "code",
      "source": [
        "# Using GroupBy multiple column\n",
        "df = df.groupby([\"NPI\", \"provider_type\",\"brand_name\"],observed=True).agg({\"num_claims\": \"sum\", \"num_30day_refills\": \"sum\", \"agg_daysupply\": \"sum\",\"cost\": \"sum\",\"num_beneficiaries\": \"sum\"}).reset_index()"
      ],
      "metadata": {
        "id": "M-2KsJvPjZ8W"
      },
      "execution_count": null,
      "outputs": []
    },
    {
      "cell_type": "code",
      "source": [
        "print(df.info())\n",
        "df.head()"
      ],
      "metadata": {
        "colab": {
          "base_uri": "https://localhost:8080/",
          "height": 574
        },
        "id": "xYmrk2JpjaLs",
        "outputId": "89429686-69db-4282-b28b-769a7e0377aa"
      },
      "execution_count": null,
      "outputs": [
        {
          "output_type": "stream",
          "name": "stdout",
          "text": [
            "<class 'pandas.core.frame.DataFrame'>\n",
            "RangeIndex: 10699504 entries, 0 to 10699503\n",
            "Data columns (total 8 columns):\n",
            " #   Column             Dtype   \n",
            "---  ------             -----   \n",
            " 0   NPI                int64   \n",
            " 1   provider_type      category\n",
            " 2   brand_name         category\n",
            " 3   num_claims         int64   \n",
            " 4   num_30day_refills  float64 \n",
            " 5   agg_daysupply      int64   \n",
            " 6   cost               float64 \n",
            " 7   num_beneficiaries  float64 \n",
            "dtypes: category(2), float64(3), int64(3)\n",
            "memory usage: 530.7 MB\n",
            "None\n"
          ]
        },
        {
          "output_type": "execute_result",
          "data": {
            "text/plain": [
              "          NPI      provider_type            brand_name  num_claims  \\\n",
              "0  1003000126  Internal Medicine   Amlodipine Besylate          22   \n",
              "1  1003000126  Internal Medicine  Atorvastatin Calcium          41   \n",
              "2  1003000126  Internal Medicine          Azithromycin          15   \n",
              "3  1003000126  Internal Medicine            Carvedilol          21   \n",
              "4  1003000126  Internal Medicine              Cefdinir          13   \n",
              "\n",
              "   num_30day_refills  agg_daysupply    cost  num_beneficiaries  \n",
              "0               26.0            780   92.81               12.0  \n",
              "1               50.0           1482  373.60               22.0  \n",
              "2               15.0             77  132.57               15.0  \n",
              "3               27.0            787  118.53               11.0  \n",
              "4               13.0             81  203.03               13.0  "
            ],
            "text/html": [
              "\n",
              "  <div id=\"df-b7a811c2-5d08-4c22-945d-7f39975f0f12\">\n",
              "    <div class=\"colab-df-container\">\n",
              "      <div>\n",
              "<style scoped>\n",
              "    .dataframe tbody tr th:only-of-type {\n",
              "        vertical-align: middle;\n",
              "    }\n",
              "\n",
              "    .dataframe tbody tr th {\n",
              "        vertical-align: top;\n",
              "    }\n",
              "\n",
              "    .dataframe thead th {\n",
              "        text-align: right;\n",
              "    }\n",
              "</style>\n",
              "<table border=\"1\" class=\"dataframe\">\n",
              "  <thead>\n",
              "    <tr style=\"text-align: right;\">\n",
              "      <th></th>\n",
              "      <th>NPI</th>\n",
              "      <th>provider_type</th>\n",
              "      <th>brand_name</th>\n",
              "      <th>num_claims</th>\n",
              "      <th>num_30day_refills</th>\n",
              "      <th>agg_daysupply</th>\n",
              "      <th>cost</th>\n",
              "      <th>num_beneficiaries</th>\n",
              "    </tr>\n",
              "  </thead>\n",
              "  <tbody>\n",
              "    <tr>\n",
              "      <th>0</th>\n",
              "      <td>1003000126</td>\n",
              "      <td>Internal Medicine</td>\n",
              "      <td>Amlodipine Besylate</td>\n",
              "      <td>22</td>\n",
              "      <td>26.0</td>\n",
              "      <td>780</td>\n",
              "      <td>92.81</td>\n",
              "      <td>12.0</td>\n",
              "    </tr>\n",
              "    <tr>\n",
              "      <th>1</th>\n",
              "      <td>1003000126</td>\n",
              "      <td>Internal Medicine</td>\n",
              "      <td>Atorvastatin Calcium</td>\n",
              "      <td>41</td>\n",
              "      <td>50.0</td>\n",
              "      <td>1482</td>\n",
              "      <td>373.60</td>\n",
              "      <td>22.0</td>\n",
              "    </tr>\n",
              "    <tr>\n",
              "      <th>2</th>\n",
              "      <td>1003000126</td>\n",
              "      <td>Internal Medicine</td>\n",
              "      <td>Azithromycin</td>\n",
              "      <td>15</td>\n",
              "      <td>15.0</td>\n",
              "      <td>77</td>\n",
              "      <td>132.57</td>\n",
              "      <td>15.0</td>\n",
              "    </tr>\n",
              "    <tr>\n",
              "      <th>3</th>\n",
              "      <td>1003000126</td>\n",
              "      <td>Internal Medicine</td>\n",
              "      <td>Carvedilol</td>\n",
              "      <td>21</td>\n",
              "      <td>27.0</td>\n",
              "      <td>787</td>\n",
              "      <td>118.53</td>\n",
              "      <td>11.0</td>\n",
              "    </tr>\n",
              "    <tr>\n",
              "      <th>4</th>\n",
              "      <td>1003000126</td>\n",
              "      <td>Internal Medicine</td>\n",
              "      <td>Cefdinir</td>\n",
              "      <td>13</td>\n",
              "      <td>13.0</td>\n",
              "      <td>81</td>\n",
              "      <td>203.03</td>\n",
              "      <td>13.0</td>\n",
              "    </tr>\n",
              "  </tbody>\n",
              "</table>\n",
              "</div>\n",
              "      <button class=\"colab-df-convert\" onclick=\"convertToInteractive('df-b7a811c2-5d08-4c22-945d-7f39975f0f12')\"\n",
              "              title=\"Convert this dataframe to an interactive table.\"\n",
              "              style=\"display:none;\">\n",
              "        \n",
              "  <svg xmlns=\"http://www.w3.org/2000/svg\" height=\"24px\"viewBox=\"0 0 24 24\"\n",
              "       width=\"24px\">\n",
              "    <path d=\"M0 0h24v24H0V0z\" fill=\"none\"/>\n",
              "    <path d=\"M18.56 5.44l.94 2.06.94-2.06 2.06-.94-2.06-.94-.94-2.06-.94 2.06-2.06.94zm-11 1L8.5 8.5l.94-2.06 2.06-.94-2.06-.94L8.5 2.5l-.94 2.06-2.06.94zm10 10l.94 2.06.94-2.06 2.06-.94-2.06-.94-.94-2.06-.94 2.06-2.06.94z\"/><path d=\"M17.41 7.96l-1.37-1.37c-.4-.4-.92-.59-1.43-.59-.52 0-1.04.2-1.43.59L10.3 9.45l-7.72 7.72c-.78.78-.78 2.05 0 2.83L4 21.41c.39.39.9.59 1.41.59.51 0 1.02-.2 1.41-.59l7.78-7.78 2.81-2.81c.8-.78.8-2.07 0-2.86zM5.41 20L4 18.59l7.72-7.72 1.47 1.35L5.41 20z\"/>\n",
              "  </svg>\n",
              "      </button>\n",
              "      \n",
              "  <style>\n",
              "    .colab-df-container {\n",
              "      display:flex;\n",
              "      flex-wrap:wrap;\n",
              "      gap: 12px;\n",
              "    }\n",
              "\n",
              "    .colab-df-convert {\n",
              "      background-color: #E8F0FE;\n",
              "      border: none;\n",
              "      border-radius: 50%;\n",
              "      cursor: pointer;\n",
              "      display: none;\n",
              "      fill: #1967D2;\n",
              "      height: 32px;\n",
              "      padding: 0 0 0 0;\n",
              "      width: 32px;\n",
              "    }\n",
              "\n",
              "    .colab-df-convert:hover {\n",
              "      background-color: #E2EBFA;\n",
              "      box-shadow: 0px 1px 2px rgba(60, 64, 67, 0.3), 0px 1px 3px 1px rgba(60, 64, 67, 0.15);\n",
              "      fill: #174EA6;\n",
              "    }\n",
              "\n",
              "    [theme=dark] .colab-df-convert {\n",
              "      background-color: #3B4455;\n",
              "      fill: #D2E3FC;\n",
              "    }\n",
              "\n",
              "    [theme=dark] .colab-df-convert:hover {\n",
              "      background-color: #434B5C;\n",
              "      box-shadow: 0px 1px 3px 1px rgba(0, 0, 0, 0.15);\n",
              "      filter: drop-shadow(0px 1px 2px rgba(0, 0, 0, 0.3));\n",
              "      fill: #FFFFFF;\n",
              "    }\n",
              "  </style>\n",
              "\n",
              "      <script>\n",
              "        const buttonEl =\n",
              "          document.querySelector('#df-b7a811c2-5d08-4c22-945d-7f39975f0f12 button.colab-df-convert');\n",
              "        buttonEl.style.display =\n",
              "          google.colab.kernel.accessAllowed ? 'block' : 'none';\n",
              "\n",
              "        async function convertToInteractive(key) {\n",
              "          const element = document.querySelector('#df-b7a811c2-5d08-4c22-945d-7f39975f0f12');\n",
              "          const dataTable =\n",
              "            await google.colab.kernel.invokeFunction('convertToInteractive',\n",
              "                                                     [key], {});\n",
              "          if (!dataTable) return;\n",
              "\n",
              "          const docLinkHtml = 'Like what you see? Visit the ' +\n",
              "            '<a target=\"_blank\" href=https://colab.research.google.com/notebooks/data_table.ipynb>data table notebook</a>'\n",
              "            + ' to learn more about interactive tables.';\n",
              "          element.innerHTML = '';\n",
              "          dataTable['output_type'] = 'display_data';\n",
              "          await google.colab.output.renderOutput(dataTable, element);\n",
              "          const docLink = document.createElement('div');\n",
              "          docLink.innerHTML = docLinkHtml;\n",
              "          element.appendChild(docLink);\n",
              "        }\n",
              "      </script>\n",
              "    </div>\n",
              "  </div>\n",
              "  "
            ]
          },
          "metadata": {},
          "execution_count": 9
        }
      ]
    },
    {
      "cell_type": "markdown",
      "source": [
        "#Load List of Excluded Individuals and Entities"
      ],
      "metadata": {
        "id": "Cp3mfgdWGwDJ"
      }
    },
    {
      "cell_type": "code",
      "source": [
        "df_leie = pd.read_csv('/content/drive/MyDrive/LEIE_Tiz.csv', usecols = ['NPI', 'EXCLTYPE'])\n",
        "print(df_leie.info())\n",
        "df_leie.head()"
      ],
      "metadata": {
        "id": "qQyqLPexGzSw",
        "colab": {
          "base_uri": "https://localhost:8080/",
          "height": 374
        },
        "outputId": "5d447e6f-4923-4951-96a6-30416f613310"
      },
      "execution_count": null,
      "outputs": [
        {
          "output_type": "stream",
          "name": "stdout",
          "text": [
            "<class 'pandas.core.frame.DataFrame'>\n",
            "RangeIndex: 75164 entries, 0 to 75163\n",
            "Data columns (total 2 columns):\n",
            " #   Column    Non-Null Count  Dtype \n",
            "---  ------    --------------  ----- \n",
            " 0   NPI       75164 non-null  int64 \n",
            " 1   EXCLTYPE  75164 non-null  object\n",
            "dtypes: int64(1), object(1)\n",
            "memory usage: 1.1+ MB\n",
            "None\n"
          ]
        },
        {
          "output_type": "execute_result",
          "data": {
            "text/plain": [
              "          NPI EXCLTYPE\n",
              "0           0   1128a1\n",
              "1           0   1128a1\n",
              "2           0   1128b7\n",
              "3  1922348218   1128a1\n",
              "4           0   1128b5"
            ],
            "text/html": [
              "\n",
              "  <div id=\"df-a9db718a-4d32-4767-93fc-0ced7005932a\">\n",
              "    <div class=\"colab-df-container\">\n",
              "      <div>\n",
              "<style scoped>\n",
              "    .dataframe tbody tr th:only-of-type {\n",
              "        vertical-align: middle;\n",
              "    }\n",
              "\n",
              "    .dataframe tbody tr th {\n",
              "        vertical-align: top;\n",
              "    }\n",
              "\n",
              "    .dataframe thead th {\n",
              "        text-align: right;\n",
              "    }\n",
              "</style>\n",
              "<table border=\"1\" class=\"dataframe\">\n",
              "  <thead>\n",
              "    <tr style=\"text-align: right;\">\n",
              "      <th></th>\n",
              "      <th>NPI</th>\n",
              "      <th>EXCLTYPE</th>\n",
              "    </tr>\n",
              "  </thead>\n",
              "  <tbody>\n",
              "    <tr>\n",
              "      <th>0</th>\n",
              "      <td>0</td>\n",
              "      <td>1128a1</td>\n",
              "    </tr>\n",
              "    <tr>\n",
              "      <th>1</th>\n",
              "      <td>0</td>\n",
              "      <td>1128a1</td>\n",
              "    </tr>\n",
              "    <tr>\n",
              "      <th>2</th>\n",
              "      <td>0</td>\n",
              "      <td>1128b7</td>\n",
              "    </tr>\n",
              "    <tr>\n",
              "      <th>3</th>\n",
              "      <td>1922348218</td>\n",
              "      <td>1128a1</td>\n",
              "    </tr>\n",
              "    <tr>\n",
              "      <th>4</th>\n",
              "      <td>0</td>\n",
              "      <td>1128b5</td>\n",
              "    </tr>\n",
              "  </tbody>\n",
              "</table>\n",
              "</div>\n",
              "      <button class=\"colab-df-convert\" onclick=\"convertToInteractive('df-a9db718a-4d32-4767-93fc-0ced7005932a')\"\n",
              "              title=\"Convert this dataframe to an interactive table.\"\n",
              "              style=\"display:none;\">\n",
              "        \n",
              "  <svg xmlns=\"http://www.w3.org/2000/svg\" height=\"24px\"viewBox=\"0 0 24 24\"\n",
              "       width=\"24px\">\n",
              "    <path d=\"M0 0h24v24H0V0z\" fill=\"none\"/>\n",
              "    <path d=\"M18.56 5.44l.94 2.06.94-2.06 2.06-.94-2.06-.94-.94-2.06-.94 2.06-2.06.94zm-11 1L8.5 8.5l.94-2.06 2.06-.94-2.06-.94L8.5 2.5l-.94 2.06-2.06.94zm10 10l.94 2.06.94-2.06 2.06-.94-2.06-.94-.94-2.06-.94 2.06-2.06.94z\"/><path d=\"M17.41 7.96l-1.37-1.37c-.4-.4-.92-.59-1.43-.59-.52 0-1.04.2-1.43.59L10.3 9.45l-7.72 7.72c-.78.78-.78 2.05 0 2.83L4 21.41c.39.39.9.59 1.41.59.51 0 1.02-.2 1.41-.59l7.78-7.78 2.81-2.81c.8-.78.8-2.07 0-2.86zM5.41 20L4 18.59l7.72-7.72 1.47 1.35L5.41 20z\"/>\n",
              "  </svg>\n",
              "      </button>\n",
              "      \n",
              "  <style>\n",
              "    .colab-df-container {\n",
              "      display:flex;\n",
              "      flex-wrap:wrap;\n",
              "      gap: 12px;\n",
              "    }\n",
              "\n",
              "    .colab-df-convert {\n",
              "      background-color: #E8F0FE;\n",
              "      border: none;\n",
              "      border-radius: 50%;\n",
              "      cursor: pointer;\n",
              "      display: none;\n",
              "      fill: #1967D2;\n",
              "      height: 32px;\n",
              "      padding: 0 0 0 0;\n",
              "      width: 32px;\n",
              "    }\n",
              "\n",
              "    .colab-df-convert:hover {\n",
              "      background-color: #E2EBFA;\n",
              "      box-shadow: 0px 1px 2px rgba(60, 64, 67, 0.3), 0px 1px 3px 1px rgba(60, 64, 67, 0.15);\n",
              "      fill: #174EA6;\n",
              "    }\n",
              "\n",
              "    [theme=dark] .colab-df-convert {\n",
              "      background-color: #3B4455;\n",
              "      fill: #D2E3FC;\n",
              "    }\n",
              "\n",
              "    [theme=dark] .colab-df-convert:hover {\n",
              "      background-color: #434B5C;\n",
              "      box-shadow: 0px 1px 3px 1px rgba(0, 0, 0, 0.15);\n",
              "      filter: drop-shadow(0px 1px 2px rgba(0, 0, 0, 0.3));\n",
              "      fill: #FFFFFF;\n",
              "    }\n",
              "  </style>\n",
              "\n",
              "      <script>\n",
              "        const buttonEl =\n",
              "          document.querySelector('#df-a9db718a-4d32-4767-93fc-0ced7005932a button.colab-df-convert');\n",
              "        buttonEl.style.display =\n",
              "          google.colab.kernel.accessAllowed ? 'block' : 'none';\n",
              "\n",
              "        async function convertToInteractive(key) {\n",
              "          const element = document.querySelector('#df-a9db718a-4d32-4767-93fc-0ced7005932a');\n",
              "          const dataTable =\n",
              "            await google.colab.kernel.invokeFunction('convertToInteractive',\n",
              "                                                     [key], {});\n",
              "          if (!dataTable) return;\n",
              "\n",
              "          const docLinkHtml = 'Like what you see? Visit the ' +\n",
              "            '<a target=\"_blank\" href=https://colab.research.google.com/notebooks/data_table.ipynb>data table notebook</a>'\n",
              "            + ' to learn more about interactive tables.';\n",
              "          element.innerHTML = '';\n",
              "          dataTable['output_type'] = 'display_data';\n",
              "          await google.colab.output.renderOutput(dataTable, element);\n",
              "          const docLink = document.createElement('div');\n",
              "          docLink.innerHTML = docLinkHtml;\n",
              "          element.appendChild(docLink);\n",
              "        }\n",
              "      </script>\n",
              "    </div>\n",
              "  </div>\n",
              "  "
            ]
          },
          "metadata": {},
          "execution_count": 11
        }
      ]
    },
    {
      "cell_type": "code",
      "source": [
        "#rename exclusion type column and drop all 0 values in the NPI column\n",
        "df_leie.rename(columns={'EXCLTYPE': 'fraud'}, inplace=True)\n",
        "df_leie.query('NPI !=0', inplace=True)\n",
        "df_leie.reset_index(drop=True, inplace=True)\n",
        "df_leie['fraud'] = 1\n",
        "df_leie.head()"
      ],
      "metadata": {
        "colab": {
          "base_uri": "https://localhost:8080/",
          "height": 204
        },
        "id": "kjlF7ZZ5BWFY",
        "outputId": "be5c7a46-c853-4651-9ae4-42ec614a4cd3"
      },
      "execution_count": null,
      "outputs": [
        {
          "output_type": "execute_result",
          "data": {
            "text/plain": [
              "          NPI  fraud\n",
              "0  1922348218      1\n",
              "1  1942476080      1\n",
              "2  1275600959      1\n",
              "3  1891731758      1\n",
              "4  1851631543      1"
            ],
            "text/html": [
              "\n",
              "  <div id=\"df-57d3e48b-acf5-4383-9214-d8c6bac8f6a9\">\n",
              "    <div class=\"colab-df-container\">\n",
              "      <div>\n",
              "<style scoped>\n",
              "    .dataframe tbody tr th:only-of-type {\n",
              "        vertical-align: middle;\n",
              "    }\n",
              "\n",
              "    .dataframe tbody tr th {\n",
              "        vertical-align: top;\n",
              "    }\n",
              "\n",
              "    .dataframe thead th {\n",
              "        text-align: right;\n",
              "    }\n",
              "</style>\n",
              "<table border=\"1\" class=\"dataframe\">\n",
              "  <thead>\n",
              "    <tr style=\"text-align: right;\">\n",
              "      <th></th>\n",
              "      <th>NPI</th>\n",
              "      <th>fraud</th>\n",
              "    </tr>\n",
              "  </thead>\n",
              "  <tbody>\n",
              "    <tr>\n",
              "      <th>0</th>\n",
              "      <td>1922348218</td>\n",
              "      <td>1</td>\n",
              "    </tr>\n",
              "    <tr>\n",
              "      <th>1</th>\n",
              "      <td>1942476080</td>\n",
              "      <td>1</td>\n",
              "    </tr>\n",
              "    <tr>\n",
              "      <th>2</th>\n",
              "      <td>1275600959</td>\n",
              "      <td>1</td>\n",
              "    </tr>\n",
              "    <tr>\n",
              "      <th>3</th>\n",
              "      <td>1891731758</td>\n",
              "      <td>1</td>\n",
              "    </tr>\n",
              "    <tr>\n",
              "      <th>4</th>\n",
              "      <td>1851631543</td>\n",
              "      <td>1</td>\n",
              "    </tr>\n",
              "  </tbody>\n",
              "</table>\n",
              "</div>\n",
              "      <button class=\"colab-df-convert\" onclick=\"convertToInteractive('df-57d3e48b-acf5-4383-9214-d8c6bac8f6a9')\"\n",
              "              title=\"Convert this dataframe to an interactive table.\"\n",
              "              style=\"display:none;\">\n",
              "        \n",
              "  <svg xmlns=\"http://www.w3.org/2000/svg\" height=\"24px\"viewBox=\"0 0 24 24\"\n",
              "       width=\"24px\">\n",
              "    <path d=\"M0 0h24v24H0V0z\" fill=\"none\"/>\n",
              "    <path d=\"M18.56 5.44l.94 2.06.94-2.06 2.06-.94-2.06-.94-.94-2.06-.94 2.06-2.06.94zm-11 1L8.5 8.5l.94-2.06 2.06-.94-2.06-.94L8.5 2.5l-.94 2.06-2.06.94zm10 10l.94 2.06.94-2.06 2.06-.94-2.06-.94-.94-2.06-.94 2.06-2.06.94z\"/><path d=\"M17.41 7.96l-1.37-1.37c-.4-.4-.92-.59-1.43-.59-.52 0-1.04.2-1.43.59L10.3 9.45l-7.72 7.72c-.78.78-.78 2.05 0 2.83L4 21.41c.39.39.9.59 1.41.59.51 0 1.02-.2 1.41-.59l7.78-7.78 2.81-2.81c.8-.78.8-2.07 0-2.86zM5.41 20L4 18.59l7.72-7.72 1.47 1.35L5.41 20z\"/>\n",
              "  </svg>\n",
              "      </button>\n",
              "      \n",
              "  <style>\n",
              "    .colab-df-container {\n",
              "      display:flex;\n",
              "      flex-wrap:wrap;\n",
              "      gap: 12px;\n",
              "    }\n",
              "\n",
              "    .colab-df-convert {\n",
              "      background-color: #E8F0FE;\n",
              "      border: none;\n",
              "      border-radius: 50%;\n",
              "      cursor: pointer;\n",
              "      display: none;\n",
              "      fill: #1967D2;\n",
              "      height: 32px;\n",
              "      padding: 0 0 0 0;\n",
              "      width: 32px;\n",
              "    }\n",
              "\n",
              "    .colab-df-convert:hover {\n",
              "      background-color: #E2EBFA;\n",
              "      box-shadow: 0px 1px 2px rgba(60, 64, 67, 0.3), 0px 1px 3px 1px rgba(60, 64, 67, 0.15);\n",
              "      fill: #174EA6;\n",
              "    }\n",
              "\n",
              "    [theme=dark] .colab-df-convert {\n",
              "      background-color: #3B4455;\n",
              "      fill: #D2E3FC;\n",
              "    }\n",
              "\n",
              "    [theme=dark] .colab-df-convert:hover {\n",
              "      background-color: #434B5C;\n",
              "      box-shadow: 0px 1px 3px 1px rgba(0, 0, 0, 0.15);\n",
              "      filter: drop-shadow(0px 1px 2px rgba(0, 0, 0, 0.3));\n",
              "      fill: #FFFFFF;\n",
              "    }\n",
              "  </style>\n",
              "\n",
              "      <script>\n",
              "        const buttonEl =\n",
              "          document.querySelector('#df-57d3e48b-acf5-4383-9214-d8c6bac8f6a9 button.colab-df-convert');\n",
              "        buttonEl.style.display =\n",
              "          google.colab.kernel.accessAllowed ? 'block' : 'none';\n",
              "\n",
              "        async function convertToInteractive(key) {\n",
              "          const element = document.querySelector('#df-57d3e48b-acf5-4383-9214-d8c6bac8f6a9');\n",
              "          const dataTable =\n",
              "            await google.colab.kernel.invokeFunction('convertToInteractive',\n",
              "                                                     [key], {});\n",
              "          if (!dataTable) return;\n",
              "\n",
              "          const docLinkHtml = 'Like what you see? Visit the ' +\n",
              "            '<a target=\"_blank\" href=https://colab.research.google.com/notebooks/data_table.ipynb>data table notebook</a>'\n",
              "            + ' to learn more about interactive tables.';\n",
              "          element.innerHTML = '';\n",
              "          dataTable['output_type'] = 'display_data';\n",
              "          await google.colab.output.renderOutput(dataTable, element);\n",
              "          const docLink = document.createElement('div');\n",
              "          docLink.innerHTML = docLinkHtml;\n",
              "          element.appendChild(docLink);\n",
              "        }\n",
              "      </script>\n",
              "    </div>\n",
              "  </div>\n",
              "  "
            ]
          },
          "metadata": {},
          "execution_count": 12
        }
      ]
    },
    {
      "cell_type": "markdown",
      "source": [
        "#Merge Part D and LEIE"
      ],
      "metadata": {
        "id": "5qUfmmP1Qqtp"
      }
    },
    {
      "cell_type": "code",
      "source": [
        "df_merge = pd.merge(df, df_leie, on='NPI', how='left')"
      ],
      "metadata": {
        "id": "CGLqYybj9ahz"
      },
      "execution_count": null,
      "outputs": []
    },
    {
      "cell_type": "code",
      "source": [
        "# for whole dataframe the nan values are replaced by zeros\n",
        "df_merge = df_merge.replace(np.nan, 0)"
      ],
      "metadata": {
        "id": "bSdnuEdf9wHS"
      },
      "execution_count": null,
      "outputs": []
    },
    {
      "cell_type": "code",
      "source": [
        "df_merge['fraud']=df_merge.fraud.astype('int64') #changes float type to int type"
      ],
      "metadata": {
        "id": "foN5AhdPBmgr"
      },
      "execution_count": null,
      "outputs": []
    },
    {
      "cell_type": "code",
      "source": [
        "df_merge[df_merge['fraud']==1].count()\n",
        "df_merge[df_merge['fraud']==1]\n",
        "df_merge[\"fraud\"].value_counts()"
      ],
      "metadata": {
        "id": "XBhFMp1t9wPJ",
        "colab": {
          "base_uri": "https://localhost:8080/"
        },
        "outputId": "2bd20159-4b14-4d42-8b6a-698f1c6c6120"
      },
      "execution_count": null,
      "outputs": [
        {
          "output_type": "execute_result",
          "data": {
            "text/plain": [
              "0    10696346\n",
              "1        3158\n",
              "Name: fraud, dtype: int64"
            ]
          },
          "metadata": {},
          "execution_count": 16
        }
      ]
    },
    {
      "cell_type": "markdown",
      "source": [
        "\n",
        "\n",
        "There are 3162 drug related fraud in the dataset before aggregation and 3158 after aggregation\n"
      ],
      "metadata": {
        "id": "ec2_WHmXhB8k"
      }
    },
    {
      "cell_type": "code",
      "source": [
        "df_merge.info()"
      ],
      "metadata": {
        "colab": {
          "base_uri": "https://localhost:8080/"
        },
        "id": "Tp7FGpPBlm1i",
        "outputId": "1b9f2ee2-2d79-484b-ae33-a8861c0de0d4"
      },
      "execution_count": null,
      "outputs": [
        {
          "output_type": "stream",
          "name": "stdout",
          "text": [
            "<class 'pandas.core.frame.DataFrame'>\n",
            "Int64Index: 10699504 entries, 0 to 10699503\n",
            "Data columns (total 9 columns):\n",
            " #   Column             Dtype   \n",
            "---  ------             -----   \n",
            " 0   NPI                int64   \n",
            " 1   provider_type      category\n",
            " 2   brand_name         category\n",
            " 3   num_claims         int64   \n",
            " 4   num_30day_refills  float64 \n",
            " 5   agg_daysupply      int64   \n",
            " 6   cost               float64 \n",
            " 7   num_beneficiaries  float64 \n",
            " 8   fraud              int64   \n",
            "dtypes: category(2), float64(3), int64(4)\n",
            "memory usage: 694.0 MB\n"
          ]
        }
      ]
    },
    {
      "cell_type": "code",
      "source": [
        "df_merge[\"provider_type\"].nunique()"
      ],
      "metadata": {
        "colab": {
          "base_uri": "https://localhost:8080/"
        },
        "id": "bwAXHDYRkVGD",
        "outputId": "6dc8c374-e731-449f-f975-231b9bab56a1"
      },
      "execution_count": null,
      "outputs": [
        {
          "output_type": "execute_result",
          "data": {
            "text/plain": [
              "157"
            ]
          },
          "metadata": {},
          "execution_count": 19
        }
      ]
    },
    {
      "cell_type": "code",
      "source": [
        "df_merge[\"NPI\"].nunique()"
      ],
      "metadata": {
        "colab": {
          "base_uri": "https://localhost:8080/"
        },
        "id": "fFoEeGMTkm8p",
        "outputId": "f688445f-f179-4af7-dc4a-eb722401ab7a"
      },
      "execution_count": null,
      "outputs": [
        {
          "output_type": "execute_result",
          "data": {
            "text/plain": [
              "827474"
            ]
          },
          "metadata": {},
          "execution_count": 20
        }
      ]
    },
    {
      "cell_type": "markdown",
      "source": [
        "#Save Pickel\n"
      ],
      "metadata": {
        "id": "0qJH38UISpQ4"
      }
    },
    {
      "cell_type": "code",
      "source": [
        "joblib.dump(df_merge, open(\"final_merge_provider.pkl\",'wb'))\n",
        "#rfc_loaded = load(\"rfc_fitting.pkl\") #to open"
      ],
      "metadata": {
        "id": "1DBvXZnGlMTv"
      },
      "execution_count": null,
      "outputs": []
    }
  ]
}